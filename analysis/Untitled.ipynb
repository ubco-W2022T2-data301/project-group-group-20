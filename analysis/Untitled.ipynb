{
 "cells": [
  {
   "cell_type": "code",
   "execution_count": 29,
   "id": "c83d92a7-a701-40fe-80c1-152001141115",
   "metadata": {},
   "outputs": [],
   "source": [
    "test1 = {\"Hello\", \"World\"}\n",
    "test2 = {\"I\", \"Love\", \"python\", \"programming\"}\n",
    "def word_length_dictionary(words):\n",
    "    word_lengths = {}\n",
    "    for word in words:\n",
    "        word_lengths[word] = len(word)\n",
    "    return word_lengths"
   ]
  },
  {
   "cell_type": "code",
   "execution_count": 30,
   "id": "1d4ef0a2-b82b-4dfd-b06b-cfef2798fbe4",
   "metadata": {},
   "outputs": [],
   "source": [
    "assert word_length_dictionary(test1) == {'Hello': 5, 'World': 5}\n",
    "assert word_length_dictionary(test2) == {'I': 1, 'Love': 4, 'python': 6, 'programming': 11}"
   ]
  },
  {
   "cell_type": "code",
   "execution_count": 31,
   "id": "37520f37-01b5-490b-bbd0-9d5e6ab0ee28",
   "metadata": {},
   "outputs": [],
   "source": [
    "test1 = 50\n",
    "test2 = 17"
   ]
  },
  {
   "cell_type": "code",
   "execution_count": 35,
   "id": "6c3ac8ff-75b7-4c04-b2a9-e88f7376bdf6",
   "metadata": {},
   "outputs": [],
   "source": [
    "def divisible_by_ten(num):\n",
    "    if num % 10 == 0:\n",
    "        return True\n",
    "    else:\n",
    "        return False"
   ]
  },
  {
   "cell_type": "code",
   "execution_count": 50,
   "id": "4110e7ae-941c-4e8a-ab9f-e110fba0a59c",
   "metadata": {},
   "outputs": [],
   "source": [
    "test1 = [\"blue\", \"green\" , \"blue\", 5, 12, 10, 5, \"green\"] # create your first test list \n",
    "test2 = [\"red\", \"green\" , \"red\", 5, 5, 10, 5, \"green\"] # create your second test list \n",
    "\n",
    "# Define your function below:\n",
    "def more_frequent_item(lst, item1, item2):\n",
    "    count_item1 = lst.count(item1)\n",
    "    count_item2 = lst.count(item2)\n",
    "    \n",
    "    if count_item1 == count_item2:\n",
    "        return item1\n",
    "    if count_item1 > count_item2:\n",
    "        return item1\n",
    "    if count_item2 > count_item1:\n",
    "        return item2\n",
    "    return \"Neither item is in the list\"\n",
    "\n",
    "\n",
    "# Test your function below with assert statements\n",
    "assert more_frequent_item(test1, item1=\"green\", item2=5)\n",
    "assert more_frequent_item(test2, item1=\"red\", item2=\"green\")"
   ]
  },
  {
   "cell_type": "code",
   "execution_count": null,
   "id": "0cf7b9aa-7541-4698-89c9-539cc639381b",
   "metadata": {},
   "outputs": [],
   "source": []
  },
  {
   "cell_type": "code",
   "execution_count": null,
   "id": "ba69a711-3fcb-4750-8001-a31894d36cb2",
   "metadata": {},
   "outputs": [],
   "source": []
  },
  {
   "cell_type": "code",
   "execution_count": null,
   "id": "234f6ef0-b1a6-40dc-8b34-481bde63d426",
   "metadata": {},
   "outputs": [],
   "source": []
  }
 ],
 "metadata": {
  "kernelspec": {
   "display_name": "Python 3 (ipykernel)",
   "language": "python",
   "name": "python3"
  },
  "language_info": {
   "codemirror_mode": {
    "name": "ipython",
    "version": 3
   },
   "file_extension": ".py",
   "mimetype": "text/x-python",
   "name": "python",
   "nbconvert_exporter": "python",
   "pygments_lexer": "ipython3",
   "version": "3.10.8"
  }
 },
 "nbformat": 4,
 "nbformat_minor": 5
}
