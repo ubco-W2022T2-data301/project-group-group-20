{
 "cells": [
  {
   "cell_type": "markdown",
   "metadata": {},
   "source": [
    "# Ajneya Lal"
   ]
  },
  {
   "cell_type": "markdown",
   "metadata": {},
   "source": [
    "## Do personal aspects such as marital status and education level contribute to credit limits of consumers? \n",
    "\n",
    "Which of these said factors affect the credit limit most? Does this work towards consumers retorting to credit card churning? To examine the research question, I intend to calculate the differences in the frequencies, ranging from 1.44k to 34.5k, Finally, I aim to link these aspects to the research question and analyze the trends. The data was processed and we removed 2 columns to only showcase the main categories needed for the project."
   ]
  },
  {
   "cell_type": "code",
   "execution_count": null,
   "metadata": {},
   "outputs": [],
   "source": []
  }
 ],
 "metadata": {
  "kernelspec": {
   "display_name": "Python 3 (ipykernel)",
   "language": "python",
   "name": "python3"
  },
  "language_info": {
   "codemirror_mode": {
    "name": "ipython",
    "version": 3
   },
   "file_extension": ".py",
   "mimetype": "text/x-python",
   "name": "python",
   "nbconvert_exporter": "python",
   "pygments_lexer": "ipython3",
   "version": "3.10.8"
  }
 },
 "nbformat": 4,
 "nbformat_minor": 4
}
